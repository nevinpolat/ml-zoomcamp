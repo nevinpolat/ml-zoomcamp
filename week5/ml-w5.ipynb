{
 "cells": [
  {
   "cell_type": "markdown",
   "metadata": {},
   "source": [
    "# Homework 5: "
   ]
  },
  {
   "cell_type": "markdown",
   "metadata": {},
   "source": [
    "## Question 1\n",
    "Install Pipenv\n",
    "What's the version of pipenv you installed?\n",
    "- 2024.0.1"
   ]
  },
  {
   "cell_type": "markdown",
   "metadata": {},
   "source": [
    "## Question 2\n",
    "Use Pipenv to install Scikit-Learn version 1.5.2\n",
    "What's the first hash for scikit-learn you get in Pipfile.lock?\n",
    "\n",
    "- \"01d9074a868ec67eee23276da2a3b05e4ea4b4fbc1850ca79238d05bebd88347\""
   ]
  },
  {
   "cell_type": "markdown",
   "metadata": {},
   "source": [
    "## Models"
   ]
  },
  {
   "cell_type": "code",
   "execution_count": 2,
   "metadata": {},
   "outputs": [
    {
     "name": "stdout",
     "output_type": "stream",
     "text": [
      "--2024-10-30 19:40:49--  https://raw.githubusercontent.com/DataTalksClub/machine-learning-zoomcamp/master/cohorts/2024/05-deployment/homework/model1.bin\n",
      "Resolving raw.githubusercontent.com (raw.githubusercontent.com)... 2606:50c0:8002::154, 2606:50c0:8001::154, 2606:50c0:8000::154, ...\n",
      "Connecting to raw.githubusercontent.com (raw.githubusercontent.com)|2606:50c0:8002::154|:443... connected.\n",
      "HTTP request sent, awaiting response... 200 OK\n",
      "Length: 850 [application/octet-stream]\n",
      "Saving to: ‘model1.bin’\n",
      "\n",
      "model1.bin          100%[===================>]     850  --.-KB/s    in 0s      \n",
      "\n",
      "2024-10-30 19:40:50 (20.4 MB/s) - ‘model1.bin’ saved [850/850]\n",
      "\n",
      "--2024-10-30 19:40:50--  https://raw.githubusercontent.com/DataTalksClub/machine-learning-zoomcamp/master/cohorts/2024/05-deployment/homework/dv.bin\n",
      "Resolving raw.githubusercontent.com (raw.githubusercontent.com)... 2606:50c0:8002::154, 2606:50c0:8001::154, 2606:50c0:8003::154, ...\n",
      "Connecting to raw.githubusercontent.com (raw.githubusercontent.com)|2606:50c0:8002::154|:443... connected.\n",
      "HTTP request sent, awaiting response... 200 OK\n",
      "Length: 560 [application/octet-stream]\n",
      "Saving to: ‘dv.bin’\n",
      "\n",
      "dv.bin              100%[===================>]     560  --.-KB/s    in 0s      \n",
      "\n",
      "2024-10-30 19:40:50 (7.63 MB/s) - ‘dv.bin’ saved [560/560]\n",
      "\n"
     ]
    }
   ],
   "source": [
    "PREFIX='https://raw.githubusercontent.com/DataTalksClub/machine-learning-zoomcamp/master/cohorts/2024/05-deployment/homework'\n",
    "!wget $PREFIX/model1.bin\n",
    "!wget $PREFIX/dv.bin"
   ]
  },
  {
   "cell_type": "markdown",
   "metadata": {},
   "source": [
    "## Question 3\n",
    "Let's use these models!\n",
    "\n",
    "Write a script for loading these models with pickle\n",
    "Score this client:\n",
    "{\"job\": \"management\", \"duration\": 400, \"poutcome\": \"success\"}\n",
    "What's the probability that this client will get a subscription?\n",
    "\n",
    "nevin@np:~/GitHub/ml-zoomcamp/week5$ pipenv run python load_model.py\n",
    "- 0.7590966516879658\n",
    "\n"
   ]
  },
  {
   "cell_type": "code",
   "execution_count": 3,
   "metadata": {},
   "outputs": [
    {
     "name": "stdout",
     "output_type": "stream",
     "text": [
      "3d8bb28974e55edefa000fe38fd3ed12  model1.bin\n",
      "7d37616e00aa80f2152b8b0511fc2dff  dv.bin\n"
     ]
    }
   ],
   "source": [
    "# Verify Checksums\n",
    "\n",
    "!md5sum model1.bin dv.bin"
   ]
  },
  {
   "cell_type": "markdown",
   "metadata": {},
   "source": [
    "## Question 4\n",
    "Now let's serve this model as a web service\n",
    "\n",
    "Install Flask and gunicorn (or waitress, if you're on Windows)\n",
    "Write Flask code for serving the model\n",
    "Now score this client using requests:\n",
    "url = \"YOUR_URL\"\n",
    "client = {\"job\": \"student\", \"duration\": 280, \"poutcome\": \"failure\"}\n",
    "requests.post(url, json=client).json()\n",
    "What's the probability that this client will get a subscription?\n",
    "\n",
    "- (week5) nevin@np:~/GitHub/ml-zoomcamp/week5$ python test.py\n",
    "Probability of subscription: 0.335\n",
    "- 0.335\n"
   ]
  },
  {
   "cell_type": "markdown",
   "metadata": {},
   "source": [
    "## Question 5\n",
    "Download the base image svizor/zoomcamp-model:3.11.5-slim. You can easily make it by using docker pull command.\n",
    "\n",
    "\n",
    "So what's the size of this base image?\n",
    "\n",
    "- 130 MB\n",
    "\n",
    "(week5) nevin@np:~/GitHub/ml-zoomcamp/week5$ docker pull svizor/zoomcamp-model:3.11.5-slim\n",
    "svizor/zoomcamp-model       3.11.5-slim   975e7bdca086   12 days ago      130MB\n"
   ]
  },
  {
   "cell_type": "markdown",
   "metadata": {},
   "source": [
    "## Docker\n",
    "This is how the Dockerfile for this image looks like:\n",
    "\n",
    "FROM python:3.11.5-slim\n",
    "WORKDIR /app\n",
    "COPY [\"model2.bin\", \"dv.bin\", \"./\"]\n",
    "We already built it and then pushed it to svizor/zoomcamp-model:3.11.5-slim.\n",
    "\n",
    "After that, you can build your docker image.\n",
    "- docker build --no-cache -t ml-week5:latest .\n"
   ]
  },
  {
   "cell_type": "markdown",
   "metadata": {},
   "source": [
    "\n",
    "## Question 6\n",
    "Let's run your docker container!\n",
    "\n",
    "week5nevin@np:~/GitHub/ml-zoomcamp/week5$ docker run -d -p 9696:9696 ml-week5:latest\n",
    "cf6272cdf7ccc8855c52f0347c47e42c5b4316fd3e4e3a488c9758243d2e2b57\n",
    "week5nevin@np:~/GitHub/ml-zoomcamp/week5$ python test_2.py\n",
    "{'probability': 0.756743795240796}\n",
    "\n",
    "What's the probability that this client will get a subscription now?\n",
    "\n",
    "- 0.757\n"
   ]
  }
 ],
 "metadata": {
  "kernelspec": {
   "display_name": "Python 3",
   "language": "python",
   "name": "python3"
  },
  "language_info": {
   "codemirror_mode": {
    "name": "ipython",
    "version": 3
   },
   "file_extension": ".py",
   "mimetype": "text/x-python",
   "name": "python",
   "nbconvert_exporter": "python",
   "pygments_lexer": "ipython3",
   "version": "3.11.10"
  }
 },
 "nbformat": 4,
 "nbformat_minor": 2
}
